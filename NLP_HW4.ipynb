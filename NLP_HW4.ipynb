{
 "cells": [
  {
   "cell_type": "markdown",
   "id": "a160843c",
   "metadata": {},
   "source": [
    "# 讀出文字"
   ]
  },
  {
   "cell_type": "code",
   "execution_count": 1,
   "id": "a5038239",
   "metadata": {},
   "outputs": [],
   "source": [
    "import json\n",
    "from opencc import OpenCC\n",
    "cc = OpenCC('s2t')\n",
    "texts = []\n",
    "for FP in range(4):\n",
    "    foldName = ''\n",
    "    if FP == 0:\n",
    "        foldName = 'AA'\n",
    "    elif FP == 1:\n",
    "        foldName = 'AB'\n",
    "    elif FP == 2:\n",
    "        foldName = 'AC'\n",
    "    elif FP == 3:\n",
    "        foldName = 'AD'        \n",
    "        \n",
    "    for i in range(99):\n",
    "        fileName = ''\n",
    "        if i < 10:\n",
    "            fileName = './'+ foldName +'/wiki_0'+str(i)\n",
    "        else:\n",
    "            fileName = './'+ foldName +'/wiki_'+str(i)\n",
    "\n",
    "\n",
    "        file = open(fileName, 'r', encoding='utf-8')\n",
    "        dataR = []\n",
    "        for line in file.readlines():\n",
    "            dataLine = json.loads(line)\n",
    "            dataR.append(dataLine)\n",
    "\n",
    "        for data in dataR:\n",
    "            texts.append(cc.convert(data['text']))"
   ]
  },
  {
   "cell_type": "code",
   "execution_count": 2,
   "id": "d28b624e",
   "metadata": {},
   "outputs": [],
   "source": [
    "path = 'output1.txt'\n",
    "f = open(path, 'w', encoding='utf-8')\n",
    "for x in texts:\n",
    "    f.write(x)"
   ]
  },
  {
   "cell_type": "code",
   "execution_count": 3,
   "id": "3f3c9ce9",
   "metadata": {},
   "outputs": [],
   "source": [
    "f.close()"
   ]
  },
  {
   "cell_type": "code",
   "execution_count": null,
   "id": "3fd31546",
   "metadata": {},
   "outputs": [],
   "source": [
    "for FP in range(4):\n",
    "    foldName = ''\n",
    "    if FP == 0:\n",
    "        foldName = 'AE'\n",
    "    elif FP == 1:\n",
    "        foldName = 'AF'\n",
    "    elif FP == 2:\n",
    "        foldName = 'AG'\n",
    "    elif FP == 3:\n",
    "        foldName = 'AH'        \n",
    "        \n",
    "    for i in range(99):\n",
    "        fileName = ''\n",
    "        if i < 10:\n",
    "            fileName = './'+ foldName +'/wiki_0'+str(i)\n",
    "        else:\n",
    "            fileName = './'+ foldName +'/wiki_'+str(i)\n",
    "\n",
    "\n",
    "        file = open(fileName, 'r', encoding='utf-8')\n",
    "        dataR = []\n",
    "        for line in file.readlines():\n",
    "            dataLine = json.loads(line)\n",
    "            dataR.append(dataLine)\n",
    "\n",
    "        for data in dataR:\n",
    "            texts.append(cc.convert(data['text']))"
   ]
  },
  {
   "cell_type": "code",
   "execution_count": null,
   "id": "08c16ba7",
   "metadata": {},
   "outputs": [],
   "source": [
    "path = 'output2.txt'\n",
    "f = open(path, 'w', encoding='utf-8')\n",
    "for x in texts:\n",
    "    f.write(x)"
   ]
  },
  {
   "cell_type": "code",
   "execution_count": null,
   "id": "56a58114",
   "metadata": {},
   "outputs": [],
   "source": [
    "f.close()"
   ]
  },
  {
   "cell_type": "code",
   "execution_count": null,
   "id": "d1a6012e",
   "metadata": {},
   "outputs": [],
   "source": [
    "for FP in range(5):\n",
    "    foldName = ''\n",
    "    if FP == 0:\n",
    "        foldName = 'AI'\n",
    "    elif FP == 1:\n",
    "        foldName = 'AJ'\n",
    "    elif FP == 2:\n",
    "        foldName = 'AK'\n",
    "    elif FP == 3:\n",
    "        foldName = 'AL'        \n",
    "    elif FP == 4:\n",
    "        foldName = 'AM'\n",
    "        \n",
    "    for i in range(99):\n",
    "        fileName = ''\n",
    "        if i < 10:\n",
    "            fileName = './'+ foldName +'/wiki_0'+str(i)\n",
    "        else:\n",
    "            fileName = './'+ foldName +'/wiki_'+str(i)\n",
    "\n",
    "\n",
    "        file = open(fileName, 'r', encoding='utf-8')\n",
    "        dataR = []\n",
    "        for line in file.readlines():\n",
    "            dataLine = json.loads(line)\n",
    "            dataR.append(dataLine)\n",
    "\n",
    "        for data in dataR:\n",
    "            texts.append(cc.convert(data['text']))"
   ]
  },
  {
   "cell_type": "code",
   "execution_count": null,
   "id": "edda25fb",
   "metadata": {},
   "outputs": [],
   "source": [
    "path = 'output3.txt'\n",
    "f = open(path, 'w', encoding='utf-8')\n",
    "for x in texts:\n",
    "    f.write(x)"
   ]
  },
  {
   "cell_type": "code",
   "execution_count": null,
   "id": "924239f0",
   "metadata": {},
   "outputs": [],
   "source": [
    "f.close()"
   ]
  },
  {
   "cell_type": "code",
   "execution_count": null,
   "id": "5969dfdc",
   "metadata": {},
   "outputs": [],
   "source": [
    "from gensim.models.word2vec import Word2Vec"
   ]
  },
  {
   "cell_type": "code",
   "execution_count": null,
   "id": "9e7766ec",
   "metadata": {},
   "outputs": [],
   "source": []
  },
  {
   "cell_type": "code",
   "execution_count": null,
   "id": "11c3f7a9",
   "metadata": {},
   "outputs": [],
   "source": []
  }
 ],
 "metadata": {
  "kernelspec": {
   "display_name": "Python 3",
   "language": "python",
   "name": "python3"
  },
  "language_info": {
   "codemirror_mode": {
    "name": "ipython",
    "version": 3
   },
   "file_extension": ".py",
   "mimetype": "text/x-python",
   "name": "python",
   "nbconvert_exporter": "python",
   "pygments_lexer": "ipython3",
   "version": "3.8.8"
  }
 },
 "nbformat": 4,
 "nbformat_minor": 5
}
