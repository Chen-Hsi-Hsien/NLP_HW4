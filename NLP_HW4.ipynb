{
 "cells": [
  {
   "cell_type": "markdown",
   "id": "a160843c",
   "metadata": {},
   "source": [
    "# 讀出文字"
   ]
  },
  {
   "cell_type": "code",
   "execution_count": 1,
   "id": "a5038239",
   "metadata": {},
   "outputs": [],
   "source": [
    "import json\n",
    "from opencc import OpenCC\n",
    "cc = OpenCC('s2t')\n",
    "texts = []\n",
    "for FP in range(4):\n",
    "    foldName = ''\n",
    "    if FP == 0:\n",
    "        foldName = 'AA'\n",
    "    elif FP == 1:\n",
    "        foldName = 'AB'\n",
    "    elif FP == 2:\n",
    "        foldName = 'AC'\n",
    "    elif FP == 3:\n",
    "        foldName = 'AD'        \n",
    "        \n",
    "    for i in range(99):\n",
    "        fileName = ''\n",
    "        if i < 10:\n",
    "            fileName = './'+ foldName +'/wiki_0'+str(i)\n",
    "        else:\n",
    "            fileName = './'+ foldName +'/wiki_'+str(i)\n",
    "\n",
    "\n",
    "        file = open(fileName, 'r', encoding='utf-8')\n",
    "        dataR = []\n",
    "        for line in file.readlines():\n",
    "            dataLine = json.loads(line)\n",
    "            dataR.append(dataLine)\n",
    "\n",
    "        for data in dataR:\n",
    "            texts.append(cc.convert(data['text']))"
   ]
  },
  {
   "cell_type": "code",
   "execution_count": 2,
   "id": "d28b624e",
   "metadata": {},
   "outputs": [],
   "source": [
    "path = 'output1.txt'\n",
    "f = open(path, 'w', encoding='utf-8')\n",
    "for x in texts:\n",
    "    f.write(x)"
   ]
  },
  {
   "cell_type": "code",
   "execution_count": 3,
   "id": "3f3c9ce9",
   "metadata": {},
   "outputs": [],
   "source": [
    "f.close()"
   ]
  },
  {
   "cell_type": "code",
   "execution_count": 4,
   "id": "3fd31546",
   "metadata": {},
   "outputs": [],
   "source": [
    "for FP in range(4):\n",
    "    foldName = ''\n",
    "    if FP == 0:\n",
    "        foldName = 'AE'\n",
    "    elif FP == 1:\n",
    "        foldName = 'AF'\n",
    "    elif FP == 2:\n",
    "        foldName = 'AG'\n",
    "    elif FP == 3:\n",
    "        foldName = 'AH'        \n",
    "        \n",
    "    for i in range(99):\n",
    "        fileName = ''\n",
    "        if i < 10:\n",
    "            fileName = './'+ foldName +'/wiki_0'+str(i)\n",
    "        else:\n",
    "            fileName = './'+ foldName +'/wiki_'+str(i)\n",
    "\n",
    "\n",
    "        file = open(fileName, 'r', encoding='utf-8')\n",
    "        dataR = []\n",
    "        for line in file.readlines():\n",
    "            dataLine = json.loads(line)\n",
    "            dataR.append(dataLine)\n",
    "\n",
    "        for data in dataR:\n",
    "            texts.append(cc.convert(data['text']))"
   ]
  },
  {
   "cell_type": "code",
   "execution_count": 5,
   "id": "08c16ba7",
   "metadata": {},
   "outputs": [],
   "source": [
    "path = 'output2.txt'\n",
    "f = open(path, 'w', encoding='utf-8')\n",
    "for x in texts:\n",
    "    f.write(x)"
   ]
  },
  {
   "cell_type": "code",
   "execution_count": 6,
   "id": "56a58114",
   "metadata": {},
   "outputs": [],
   "source": [
    "f.close()"
   ]
  },
  {
   "cell_type": "code",
   "execution_count": 7,
   "id": "61de7153",
   "metadata": {},
   "outputs": [
    {
     "ename": "FileNotFoundError",
     "evalue": "[Errno 2] No such file or directory: './AM/wiki_74'",
     "output_type": "error",
     "traceback": [
      "\u001b[1;31m---------------------------------------------------------------------------\u001b[0m",
      "\u001b[1;31mFileNotFoundError\u001b[0m                         Traceback (most recent call last)",
      "\u001b[1;32m<ipython-input-7-a61a5bf519ac>\u001b[0m in \u001b[0;36m<module>\u001b[1;34m\u001b[0m\n\u001b[0;32m     20\u001b[0m \u001b[1;33m\u001b[0m\u001b[0m\n\u001b[0;32m     21\u001b[0m \u001b[1;33m\u001b[0m\u001b[0m\n\u001b[1;32m---> 22\u001b[1;33m         \u001b[0mfile\u001b[0m \u001b[1;33m=\u001b[0m \u001b[0mopen\u001b[0m\u001b[1;33m(\u001b[0m\u001b[0mfileName\u001b[0m\u001b[1;33m,\u001b[0m \u001b[1;34m'r'\u001b[0m\u001b[1;33m,\u001b[0m \u001b[0mencoding\u001b[0m\u001b[1;33m=\u001b[0m\u001b[1;34m'utf-8'\u001b[0m\u001b[1;33m)\u001b[0m\u001b[1;33m\u001b[0m\u001b[1;33m\u001b[0m\u001b[0m\n\u001b[0m\u001b[0;32m     23\u001b[0m         \u001b[0mdataR\u001b[0m \u001b[1;33m=\u001b[0m \u001b[1;33m[\u001b[0m\u001b[1;33m]\u001b[0m\u001b[1;33m\u001b[0m\u001b[1;33m\u001b[0m\u001b[0m\n\u001b[0;32m     24\u001b[0m         \u001b[1;32mfor\u001b[0m \u001b[0mline\u001b[0m \u001b[1;32min\u001b[0m \u001b[0mfile\u001b[0m\u001b[1;33m.\u001b[0m\u001b[0mreadlines\u001b[0m\u001b[1;33m(\u001b[0m\u001b[1;33m)\u001b[0m\u001b[1;33m:\u001b[0m\u001b[1;33m\u001b[0m\u001b[1;33m\u001b[0m\u001b[0m\n",
      "\u001b[1;31mFileNotFoundError\u001b[0m: [Errno 2] No such file or directory: './AM/wiki_74'"
     ]
    }
   ],
   "source": [
    "for FP in range(5):\n",
    "    foldName = ''\n",
    "    if FP == 0:\n",
    "        foldName = 'AI'\n",
    "    elif FP == 1:\n",
    "        foldName = 'AJ'\n",
    "    elif FP == 2:\n",
    "        foldName = 'AK'\n",
    "    elif FP == 3:\n",
    "        foldName = 'AL'        \n",
    "    elif FP == 4:\n",
    "        foldName = 'AM'\n",
    "        \n",
    "    for i in range(99):\n",
    "        fileName = ''\n",
    "        if i < 10:\n",
    "            fileName = './'+ foldName +'/wiki_0'+str(i)\n",
    "        else:\n",
    "            fileName = './'+ foldName +'/wiki_'+str(i)\n",
    "\n",
    "\n",
    "        file = open(fileName, 'r', encoding='utf-8')\n",
    "        dataR = []\n",
    "        for line in file.readlines():\n",
    "            dataLine = json.loads(line)\n",
    "            dataR.append(dataLine)\n",
    "\n",
    "        for data in dataR:\n",
    "            texts.append(cc.convert(data['text']))"
   ]
  },
  {
   "cell_type": "code",
   "execution_count": 8,
   "id": "b679457b",
   "metadata": {},
   "outputs": [],
   "source": [
    "path = 'output3.txt'\n",
    "f = open(path, 'w', encoding='utf-8')\n",
    "for x in texts:\n",
    "    f.write(x)"
   ]
  },
  {
   "cell_type": "code",
   "execution_count": 9,
   "id": "952af33d",
   "metadata": {},
   "outputs": [],
   "source": [
    "f.close()from gensim.models.word2vec import Word2Vec"
   ]
  },
  {
   "cell_type": "code",
   "execution_count": 25,
   "id": "5969dfdc",
   "metadata": {},
   "outputs": [
    {
     "data": {
      "text/html": [
       "<div>\n",
       "<style scoped>\n",
       "    .dataframe tbody tr th:only-of-type {\n",
       "        vertical-align: middle;\n",
       "    }\n",
       "\n",
       "    .dataframe tbody tr th {\n",
       "        vertical-align: top;\n",
       "    }\n",
       "\n",
       "    .dataframe thead th {\n",
       "        text-align: right;\n",
       "    }\n",
       "</style>\n",
       "<table border=\"1\" class=\"dataframe\">\n",
       "  <thead>\n",
       "    <tr style=\"text-align: right;\">\n",
       "      <th></th>\n",
       "      <th>Data</th>\n",
       "    </tr>\n",
       "  </thead>\n",
       "  <tbody>\n",
       "  </tbody>\n",
       "</table>\n",
       "</div>"
      ],
      "text/plain": [
       "Empty DataFrame\n",
       "Columns: [Data]\n",
       "Index: []"
      ]
     },
     "execution_count": 25,
     "metadata": {},
     "output_type": "execute_result"
    }
   ],
   "source": [
    "import pandas as pd\n",
    "df = pd.DataFrame(columns = ['Data'])\n",
    "df"
   ]
  },
  {
   "cell_type": "code",
   "execution_count": 26,
   "id": "deab9dc2",
   "metadata": {},
   "outputs": [],
   "source": [
    "df['Data'] = texts"
   ]
  },
  {
   "cell_type": "code",
   "execution_count": 27,
   "id": "586ab253",
   "metadata": {},
   "outputs": [
    {
     "data": {
      "text/html": [
       "<div>\n",
       "<style scoped>\n",
       "    .dataframe tbody tr th:only-of-type {\n",
       "        vertical-align: middle;\n",
       "    }\n",
       "\n",
       "    .dataframe tbody tr th {\n",
       "        vertical-align: top;\n",
       "    }\n",
       "\n",
       "    .dataframe thead th {\n",
       "        text-align: right;\n",
       "    }\n",
       "</style>\n",
       "<table border=\"1\" class=\"dataframe\">\n",
       "  <thead>\n",
       "    <tr style=\"text-align: right;\">\n",
       "      <th></th>\n",
       "      <th>Data</th>\n",
       "    </tr>\n",
       "  </thead>\n",
       "  <tbody>\n",
       "    <tr>\n",
       "      <th>0</th>\n",
       "      <td>數學\\n\\n數學是利用符號語言研究數量、結構、變化以及空間等概念的一門學科，從某種角度看屬於...</td>\n",
       "    </tr>\n",
       "    <tr>\n",
       "      <th>1</th>\n",
       "      <td>哲學\\n\\n哲學（）是研究普遍的、根本的問題的學科，包括存在、知識、價值、理智、心靈、語言等...</td>\n",
       "    </tr>\n",
       "    <tr>\n",
       "      <th>2</th>\n",
       "      <td>文學\\n\\n文學（），在最廣泛的意義上，是任何單一的書面作品。\\n\\n更嚴格地說，文學寫作被...</td>\n",
       "    </tr>\n",
       "    <tr>\n",
       "      <th>3</th>\n",
       "      <td>歷史\\n\\n歷史（現代漢語詞彙，古典文言文稱之爲史），指人類社會過去的事件和行動，以及對這些...</td>\n",
       "    </tr>\n",
       "    <tr>\n",
       "      <th>4</th>\n",
       "      <td>計算機科學\\n\\n計算機科學（，有時縮寫爲）是系統性研究信息與計算的理論基礎以及它們在計算機...</td>\n",
       "    </tr>\n",
       "    <tr>\n",
       "      <th>...</th>\n",
       "      <td>...</td>\n",
       "    </tr>\n",
       "    <tr>\n",
       "      <th>1031615</th>\n",
       "      <td>福暉\\n\\n福暉，原名福明（1796年 - ？），字子受，號鏡如，又號仲芸，馬佳氏，內務府正...</td>\n",
       "    </tr>\n",
       "    <tr>\n",
       "      <th>1031616</th>\n",
       "      <td>人形\\n\\n人形可以指：\\n⧼* 人偶\\n</td>\n",
       "    </tr>\n",
       "    <tr>\n",
       "      <th>1031617</th>\n",
       "      <td>成山（道光壬辰進士）\\n\\n成山（1791年 - ？），字屏臨，號進齋，滿洲正藍旗人。道光八...</td>\n",
       "    </tr>\n",
       "    <tr>\n",
       "      <th>1031618</th>\n",
       "      <td>穆通阿\\n\\n穆通阿（1794年 - ？），鈕祜祿氏，字子理，號似山，滿洲鑲黃旗人。道光八年...</td>\n",
       "    </tr>\n",
       "    <tr>\n",
       "      <th>1031619</th>\n",
       "      <td>警察之家\\n\\n《警察之家》（；），是所撰寫的「」的系列，目前已出至第二卷。而作者加藤之前已...</td>\n",
       "    </tr>\n",
       "  </tbody>\n",
       "</table>\n",
       "<p>1031620 rows × 1 columns</p>\n",
       "</div>"
      ],
      "text/plain": [
       "                                                      Data\n",
       "0        數學\\n\\n數學是利用符號語言研究數量、結構、變化以及空間等概念的一門學科，從某種角度看屬於...\n",
       "1        哲學\\n\\n哲學（）是研究普遍的、根本的問題的學科，包括存在、知識、價值、理智、心靈、語言等...\n",
       "2        文學\\n\\n文學（），在最廣泛的意義上，是任何單一的書面作品。\\n\\n更嚴格地說，文學寫作被...\n",
       "3        歷史\\n\\n歷史（現代漢語詞彙，古典文言文稱之爲史），指人類社會過去的事件和行動，以及對這些...\n",
       "4        計算機科學\\n\\n計算機科學（，有時縮寫爲）是系統性研究信息與計算的理論基礎以及它們在計算機...\n",
       "...                                                    ...\n",
       "1031615  福暉\\n\\n福暉，原名福明（1796年 - ？），字子受，號鏡如，又號仲芸，馬佳氏，內務府正...\n",
       "1031616                              人形\\n\\n人形可以指：\\n⧼* 人偶\\n\n",
       "1031617  成山（道光壬辰進士）\\n\\n成山（1791年 - ？），字屏臨，號進齋，滿洲正藍旗人。道光八...\n",
       "1031618  穆通阿\\n\\n穆通阿（1794年 - ？），鈕祜祿氏，字子理，號似山，滿洲鑲黃旗人。道光八年...\n",
       "1031619  警察之家\\n\\n《警察之家》（；），是所撰寫的「」的系列，目前已出至第二卷。而作者加藤之前已...\n",
       "\n",
       "[1031620 rows x 1 columns]"
      ]
     },
     "execution_count": 27,
     "metadata": {},
     "output_type": "execute_result"
    }
   ],
   "source": [
    "df"
   ]
  },
  {
   "cell_type": "code",
   "execution_count": null,
   "id": "04242142",
   "metadata": {},
   "outputs": [],
   "source": []
  }
 ],
 "metadata": {
  "kernelspec": {
   "display_name": "Python 3",
   "language": "python",
   "name": "python3"
  },
  "language_info": {
   "codemirror_mode": {
    "name": "ipython",
    "version": 3
   },
   "file_extension": ".py",
   "mimetype": "text/x-python",
   "name": "python",
   "nbconvert_exporter": "python",
   "pygments_lexer": "ipython3",
   "version": "3.8.8"
  }
 },
 "nbformat": 4,
 "nbformat_minor": 5
}
