{
 "cells": [
  {
   "cell_type": "markdown",
   "id": "a160843c",
   "metadata": {},
   "source": [
    "# 讀出文字"
   ]
  },
  {
   "cell_type": "code",
   "execution_count": 1,
   "id": "a5038239",
   "metadata": {},
   "outputs": [],
   "source": [
    "import json\n",
    "from opencc import OpenCC\n",
    "cc = OpenCC('s2t')\n",
    "texts = []\n",
    "for FP in range(4):\n",
    "    foldName = ''\n",
    "    if FP == 0:\n",
    "        foldName = 'AA'\n",
    "    elif FP == 1:\n",
    "        foldName = 'AB'\n",
    "    elif FP == 2:\n",
    "        foldName = 'AC'\n",
    "    elif FP == 3:\n",
    "        foldName = 'AD'        \n",
    "        \n",
    "    for i in range(99):\n",
    "        fileName = ''\n",
    "        if i < 10:\n",
    "            fileName = './'+ foldName +'/wiki_0'+str(i)\n",
    "        else:\n",
    "            fileName = './'+ foldName +'/wiki_'+str(i)\n",
    "\n",
    "\n",
    "        file = open(fileName, 'r', encoding='utf-8')\n",
    "        dataR = []\n",
    "        for line in file.readlines():\n",
    "            dataLine = json.loads(line)\n",
    "            dataR.append(dataLine)\n",
    "\n",
    "        for data in dataR:\n",
    "            texts.append(cc.convert(data['text']))"
   ]
  },
  {
   "cell_type": "code",
   "execution_count": 2,
   "id": "d28b624e",
   "metadata": {},
   "outputs": [],
   "source": [
    "path = 'output1.txt'\n",
    "f = open(path, 'w', encoding='utf-8')\n",
    "for x in texts:\n",
    "    f.write(x)"
   ]
  },
  {
   "cell_type": "code",
   "execution_count": 3,
   "id": "3f3c9ce9",
   "metadata": {},
   "outputs": [],
   "source": [
    "f.close()"
   ]
  },
  {
   "cell_type": "code",
   "execution_count": 4,
   "id": "3fd31546",
   "metadata": {},
   "outputs": [],
   "source": [
    "for FP in range(4):\n",
    "    foldName = ''\n",
    "    if FP == 0:\n",
    "        foldName = 'AE'\n",
    "    elif FP == 1:\n",
    "        foldName = 'AF'\n",
    "    elif FP == 2:\n",
    "        foldName = 'AG'\n",
    "    elif FP == 3:\n",
    "        foldName = 'AH'        \n",
    "        \n",
    "    for i in range(99):\n",
    "        fileName = ''\n",
    "        if i < 10:\n",
    "            fileName = './'+ foldName +'/wiki_0'+str(i)\n",
    "        else:\n",
    "            fileName = './'+ foldName +'/wiki_'+str(i)\n",
    "\n",
    "\n",
    "        file = open(fileName, 'r', encoding='utf-8')\n",
    "        dataR = []\n",
    "        for line in file.readlines():\n",
    "            dataLine = json.loads(line)\n",
    "            dataR.append(dataLine)\n",
    "\n",
    "        for data in dataR:\n",
    "            texts.append(cc.convert(data['text']))"
   ]
  },
  {
   "cell_type": "code",
   "execution_count": 5,
   "id": "08c16ba7",
   "metadata": {},
   "outputs": [],
   "source": [
    "path = 'output2.txt'\n",
    "f = open(path, 'w', encoding='utf-8')\n",
    "for x in texts:\n",
    "    f.write(x)"
   ]
  },
  {
   "cell_type": "code",
   "execution_count": 6,
   "id": "56a58114",
   "metadata": {},
   "outputs": [],
   "source": [
    "f.close()"
   ]
  },
  {
   "cell_type": "code",
   "execution_count": 7,
   "id": "f8abfeaf",
   "metadata": {},
   "outputs": [
    {
     "ename": "FileNotFoundError",
     "evalue": "[Errno 2] No such file or directory: './AM/wiki_74'",
     "output_type": "error",
     "traceback": [
      "\u001b[1;31m---------------------------------------------------------------------------\u001b[0m",
      "\u001b[1;31mFileNotFoundError\u001b[0m                         Traceback (most recent call last)",
      "\u001b[1;32m<ipython-input-7-a61a5bf519ac>\u001b[0m in \u001b[0;36m<module>\u001b[1;34m\u001b[0m\n\u001b[0;32m     20\u001b[0m \u001b[1;33m\u001b[0m\u001b[0m\n\u001b[0;32m     21\u001b[0m \u001b[1;33m\u001b[0m\u001b[0m\n\u001b[1;32m---> 22\u001b[1;33m         \u001b[0mfile\u001b[0m \u001b[1;33m=\u001b[0m \u001b[0mopen\u001b[0m\u001b[1;33m(\u001b[0m\u001b[0mfileName\u001b[0m\u001b[1;33m,\u001b[0m \u001b[1;34m'r'\u001b[0m\u001b[1;33m,\u001b[0m \u001b[0mencoding\u001b[0m\u001b[1;33m=\u001b[0m\u001b[1;34m'utf-8'\u001b[0m\u001b[1;33m)\u001b[0m\u001b[1;33m\u001b[0m\u001b[1;33m\u001b[0m\u001b[0m\n\u001b[0m\u001b[0;32m     23\u001b[0m         \u001b[0mdataR\u001b[0m \u001b[1;33m=\u001b[0m \u001b[1;33m[\u001b[0m\u001b[1;33m]\u001b[0m\u001b[1;33m\u001b[0m\u001b[1;33m\u001b[0m\u001b[0m\n\u001b[0;32m     24\u001b[0m         \u001b[1;32mfor\u001b[0m \u001b[0mline\u001b[0m \u001b[1;32min\u001b[0m \u001b[0mfile\u001b[0m\u001b[1;33m.\u001b[0m\u001b[0mreadlines\u001b[0m\u001b[1;33m(\u001b[0m\u001b[1;33m)\u001b[0m\u001b[1;33m:\u001b[0m\u001b[1;33m\u001b[0m\u001b[1;33m\u001b[0m\u001b[0m\n",
      "\u001b[1;31mFileNotFoundError\u001b[0m: [Errno 2] No such file or directory: './AM/wiki_74'"
     ]
    }
   ],
   "source": [
    "for FP in range(5):\n",
    "    foldName = ''\n",
    "    if FP == 0:\n",
    "        foldName = 'AI'\n",
    "    elif FP == 1:\n",
    "        foldName = 'AJ'\n",
    "    elif FP == 2:\n",
    "        foldName = 'AK'\n",
    "    elif FP == 3:\n",
    "        foldName = 'AL'        \n",
    "    elif FP == 4:\n",
    "        foldName = 'AM'\n",
    "        \n",
    "    for i in range(99):\n",
    "        fileName = ''\n",
    "        if i < 10:\n",
    "            fileName = './'+ foldName +'/wiki_0'+str(i)\n",
    "        else:\n",
    "            fileName = './'+ foldName +'/wiki_'+str(i)\n",
    "\n",
    "\n",
    "        file = open(fileName, 'r', encoding='utf-8')\n",
    "        dataR = []\n",
    "        for line in file.readlines():\n",
    "            dataLine = json.loads(line)\n",
    "            dataR.append(dataLine)\n",
    "\n",
    "        for data in dataR:\n",
    "            texts.append(cc.convert(data['text']))"
   ]
  },
  {
   "cell_type": "code",
   "execution_count": 8,
   "id": "fd4a1c6b",
   "metadata": {},
   "outputs": [],
   "source": [
    "path = 'output3.txt'\n",
    "f = open(path, 'w', encoding='utf-8')\n",
    "for x in texts:\n",
    "    f.write(x)"
   ]
  },
  {
   "cell_type": "code",
   "execution_count": 9,
   "id": "a2d59df6",
   "metadata": {},
   "outputs": [],
   "source": [
    "f.close()"
   ]
  },
  {
   "cell_type": "code",
   "execution_count": null,
   "id": "5969dfdc",
   "metadata": {},
   "outputs": [],
   "source": [
    "from gensim.models.word2vec import Word2Vec"
   ]
  },
  {
   "cell_type": "code",
   "execution_count": null,
   "id": "eab9964c",
   "metadata": {},
   "outputs": [],
   "source": []
  },
  {
   "cell_type": "code",
   "execution_count": null,
   "id": "86f3e77f",
   "metadata": {},
   "outputs": [],
   "source": []
  }
 ],
 "metadata": {
  "kernelspec": {
   "display_name": "Python 3",
   "language": "python",
   "name": "python3"
  },
  "language_info": {
   "codemirror_mode": {
    "name": "ipython",
    "version": 3
   },
   "file_extension": ".py",
   "mimetype": "text/x-python",
   "name": "python",
   "nbconvert_exporter": "python",
   "pygments_lexer": "ipython3",
   "version": "3.8.8"
  }
 },
 "nbformat": 4,
 "nbformat_minor": 5
}
